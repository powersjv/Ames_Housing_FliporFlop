{
 "cells": [
  {
   "cell_type": "markdown",
   "id": "114a53d5-1450-4d68-9e05-9c11c11e977f",
   "metadata": {},
   "source": [
    "# Ridge Model"
   ]
  },
  {
   "cell_type": "code",
   "execution_count": 1,
   "id": "766723f8-f338-4afa-90c1-5a6aedf7166b",
   "metadata": {},
   "outputs": [],
   "source": [
    "import pandas as pd\n",
    "import numpy as np\n",
    "import matplotlib.pyplot as plt\n",
    "import seaborn as sns\n",
    "\n",
    "from sklearn.preprocessing import PolynomialFeatures\n",
    "from sklearn import metrics\n",
    "\n",
    "from sklearn.model_selection import train_test_split\n",
    "from sklearn.preprocessing import StandardScaler\n",
    "\n",
    "from sklearn.linear_model import LinearRegression, Ridge, RidgeCV"
   ]
  },
  {
   "cell_type": "code",
   "execution_count": 2,
   "id": "fda9ae29-26c8-490f-9b5f-27da4726f5f5",
   "metadata": {},
   "outputs": [],
   "source": [
    "df = pd.read_csv('../../datasets/train_featengin.csv')\n",
    "df_test = pd.read_csv('../../datasets/test_featengin.csv')\n",
    "\n",
    "df.drop(columns=['Unnamed: 0'], inplace=True)\n",
    "df_test.drop(columns=['Unnamed: 0'], inplace=True)\n",
    "\n",
    "#allows me to scroll (Credit to Andy)\n",
    "pd.options.display.max_columns = 999\n",
    "pd.options.display.max_rows = 999"
   ]
  },
  {
   "cell_type": "markdown",
   "id": "77875b5f-63d4-456e-a3f9-eee37c6da86a",
   "metadata": {},
   "source": [
    "## Baseline Model"
   ]
  },
  {
   "cell_type": "code",
   "execution_count": 3,
   "id": "ed040dfa-ecec-41a7-8faa-0024520bf77d",
   "metadata": {},
   "outputs": [],
   "source": [
    "df['base'] = df['saleprice'].mean()"
   ]
  },
  {
   "cell_type": "code",
   "execution_count": 4,
   "id": "3609da92-dff3-4a25-a616-f86276a3b29e",
   "metadata": {},
   "outputs": [
    {
     "data": {
      "text/plain": [
       "79276.56098763691"
      ]
     },
     "execution_count": 4,
     "metadata": {},
     "output_type": "execute_result"
    }
   ],
   "source": [
    "RMSE = np.sqrt(metrics.mean_squared_error(df['saleprice'], df['base']))\n",
    "RMSE"
   ]
  },
  {
   "cell_type": "markdown",
   "id": "40b51359-5769-4e69-94b4-0c0e0ace6dab",
   "metadata": {},
   "source": [
    "The Baseline model has a Root Mean Squared Error of \\\\$79,277. On average the predicted sales price is about \\\\$79,277 off from the true sales price."
   ]
  },
  {
   "cell_type": "markdown",
   "id": "d3ec9eee-13d8-4579-b338-71246be06bfd",
   "metadata": {},
   "source": [
    "## Feature Selection"
   ]
  },
  {
   "cell_type": "code",
   "execution_count": 5,
   "id": "342f11b7-bea9-4243-8eb4-9bcef45c65c9",
   "metadata": {},
   "outputs": [],
   "source": [
    "features = list(df._get_numeric_data().drop(columns = ['id','pid', 'saleprice', 'base', 'lot_frontage']))"
   ]
  },
  {
   "cell_type": "code",
   "execution_count": 6,
   "id": "73be18eb-7dc7-4bcd-adca-5abb8a2296e1",
   "metadata": {},
   "outputs": [],
   "source": [
    "X = df[features]\n",
    "y = df['saleprice']"
   ]
  },
  {
   "cell_type": "markdown",
   "id": "0ef58a14-80ea-4c84-a17a-7afe9efe419f",
   "metadata": {},
   "source": [
    "## Train/Test/Split"
   ]
  },
  {
   "cell_type": "code",
   "execution_count": 7,
   "id": "44cf0249-5302-41e7-b9ab-5d883528db71",
   "metadata": {},
   "outputs": [],
   "source": [
    "X_train, X_test, y_train, y_test = train_test_split(X, y, random_state = 36)"
   ]
  },
  {
   "cell_type": "markdown",
   "id": "ff3bf878-ec3f-4fbb-92f1-6568e97cdc71",
   "metadata": {},
   "source": [
    "## Scaling"
   ]
  },
  {
   "cell_type": "code",
   "execution_count": 8,
   "id": "966030a4-36f8-49b7-95df-7bf9754f81fe",
   "metadata": {},
   "outputs": [],
   "source": [
    "sc = StandardScaler()\n",
    "Z_train = sc.fit_transform(X_train)\n",
    "Z_test = sc.transform(X_test)\n",
    "Z = sc.transform(X)"
   ]
  },
  {
   "cell_type": "markdown",
   "id": "c7229629-d81a-47cd-b3ff-636c137a8f01",
   "metadata": {},
   "source": [
    "## Instantiate/Fit Model"
   ]
  },
  {
   "cell_type": "code",
   "execution_count": 9,
   "id": "c411c420-9fdd-4909-b7cd-5a4062f0631e",
   "metadata": {},
   "outputs": [],
   "source": [
    "alphas = np.logspace(0, 5, 100)\n",
    "\n",
    "ridge_cv = RidgeCV(alphas = alphas, scoring = 'r2')\n",
    "\n",
    "ridge_cv.fit(Z_train, y_train);"
   ]
  },
  {
   "cell_type": "code",
   "execution_count": 10,
   "id": "0b63d043-97f5-4709-acfc-1ceac94e617d",
   "metadata": {},
   "outputs": [
    {
     "data": {
      "text/plain": [
       "16.297508346206442"
      ]
     },
     "execution_count": 10,
     "metadata": {},
     "output_type": "execute_result"
    }
   ],
   "source": [
    "#Best Alpha\n",
    "ridge_cv.alpha_"
   ]
  },
  {
   "cell_type": "code",
   "execution_count": 11,
   "id": "8efa1d79-0a69-4c67-a4e5-a8d341c3b838",
   "metadata": {},
   "outputs": [
    {
     "data": {
      "text/plain": [
       "0.9103902172830519"
      ]
     },
     "execution_count": 11,
     "metadata": {},
     "output_type": "execute_result"
    }
   ],
   "source": [
    "#Best Score\n",
    "ridge_cv.best_score_"
   ]
  },
  {
   "cell_type": "code",
   "execution_count": 12,
   "id": "7c2c482f-d6de-41d2-916b-2098611a99f3",
   "metadata": {},
   "outputs": [
    {
     "data": {
      "text/plain": [
       "(0.9218374824827559, 0.9165749187102705)"
      ]
     },
     "execution_count": 12,
     "metadata": {},
     "output_type": "execute_result"
    }
   ],
   "source": [
    "ridge_cv.score(Z_train, y_train), ridge_cv.score(Z_test, y_test)"
   ]
  },
  {
   "cell_type": "markdown",
   "id": "9f77f2b0-4322-4435-8b71-cd9197889513",
   "metadata": {},
   "source": [
    "These scores are much higher than the Linear Model. They are fairly close together which means that there is low variance. The high $R^2$ values make me believe that there is low bias. Need to look at a residual plot below to determine if that is true."
   ]
  },
  {
   "cell_type": "markdown",
   "id": "ecf45c9c-dfd9-4294-bdc8-15bfb08a8331",
   "metadata": {},
   "source": [
    "## Residuals"
   ]
  },
  {
   "cell_type": "code",
   "execution_count": 13,
   "id": "774f4426-b4c4-4dd8-be43-480df2c00fb8",
   "metadata": {},
   "outputs": [],
   "source": [
    "pred = ridge_cv.predict(Z_test)"
   ]
  },
  {
   "cell_type": "code",
   "execution_count": 14,
   "id": "93601099-be05-4948-abd3-71149a929989",
   "metadata": {},
   "outputs": [],
   "source": [
    "residuals = y_test - pred"
   ]
  },
  {
   "cell_type": "code",
   "execution_count": 15,
   "id": "1fd73ad7-dec5-468e-9bce-82dddcdc12bf",
   "metadata": {},
   "outputs": [
    {
     "data": {
      "image/png": "[encoded data removed]",
      "text/plain": [
       "<Figure size 432x288 with 1 Axes>"
      ]
     },
     "metadata": {
      "needs_background": "light"
     },
     "output_type": "display_data"
    }
   ],
   "source": [
    "residuals.hist()\n",
    "plt.title('Residuals for Ridge Model')\n",
    "plt.xlabel('Residuals = Actual Sales Price - Predicted Sales Price')\n",
    "plt.ylabel('Frequency');"
   ]
  },
  {
   "cell_type": "markdown",
   "id": "0f48e8a8-a9d2-40d7-a230-0aa876db3c00",
   "metadata": {},
   "source": [
    "The residuals are skewed to the right however they are centered around 0 which is what we want as the residual histogram should be showing the chaotic error we cannot control."
   ]
  },
  {
   "cell_type": "code",
   "execution_count": 16,
   "id": "3229a1b3-289e-4614-b04f-4947332ef0ab",
   "metadata": {},
   "outputs": [
    {
     "data": {
      "image/png": "[encoded data removed]",
      "text/plain": [
       "<Figure size 432x288 with 1 Axes>"
      ]
     },
     "metadata": {
      "needs_background": "light"
     },
     "output_type": "display_data"
    }
   ],
   "source": [
    "plt.axhline(y = 0, color='r')\n",
    "sns.scatterplot(x = pred, y = residuals)\n",
    "plt.title('Residual Plot for Ridge Model')\n",
    "plt.xlabel('Predicted Sale Price')\n",
    "plt.ylabel('Residual');"
   ]
  },
  {
   "cell_type": "markdown",
   "id": "e8a40ce6-68e4-4634-818a-a7035689165f",
   "metadata": {},
   "source": [
    "According to the residual histogram and the residual scatter plot, there is still some skew and a fair amount of outliers that should be looked at. "
   ]
  },
  {
   "cell_type": "code",
   "execution_count": 17,
   "id": "2d6e6e63-844b-4a25-8d43-ce732dce5839",
   "metadata": {},
   "outputs": [
    {
     "data": {
      "text/plain": [
       "23975.34504916462"
      ]
     },
     "execution_count": 17,
     "metadata": {},
     "output_type": "execute_result"
    }
   ],
   "source": [
    "RMSE = np.sqrt(metrics.mean_squared_error(y_test, pred))\n",
    "RMSE"
   ]
  },
  {
   "cell_type": "markdown",
   "id": "fcf2a3f9-b802-4233-a989-b9fe1b2079a9",
   "metadata": {},
   "source": [
    "The Root Mean Squared Error is much smaller. On average, the errors are about \\\\$23,975 off from the actual sale prices."
   ]
  },
  {
   "cell_type": "markdown",
   "id": "8f7263a1-a005-49ed-b3f3-d2d3950b7d5b",
   "metadata": {},
   "source": [
    "## Set up Kaggle Submission"
   ]
  },
  {
   "cell_type": "code",
   "execution_count": 18,
   "id": "45125af6-1376-452d-97c4-bb73c48db85e",
   "metadata": {},
   "outputs": [],
   "source": [
    "X = df_test[features]\n",
    "Z = sc.transform(X)"
   ]
  },
  {
   "cell_type": "code",
   "execution_count": 19,
   "id": "23459eea-e4d7-4860-ba56-25abd870f28f",
   "metadata": {},
   "outputs": [],
   "source": [
    "pred = ridge_cv.predict(Z)"
   ]
  },
  {
   "cell_type": "code",
   "execution_count": 20,
   "id": "d60caed8-e26c-416d-ba17-761d747fae36",
   "metadata": {},
   "outputs": [],
   "source": [
    "df_test['saleprice'] = pred"
   ]
  },
  {
   "cell_type": "code",
   "execution_count": 21,
   "id": "acb526fa-7a2d-433d-bb07-35f0069c604f",
   "metadata": {},
   "outputs": [
    {
     "data": {
      "text/html": [
       "<div>\n",
       "<style scoped>\n",
       "    .dataframe tbody tr th:only-of-type {\n",
       "        vertical-align: middle;\n",
       "    }\n",
       "\n",
       "    .dataframe tbody tr th {\n",
       "        vertical-align: top;\n",
       "    }\n",
       "\n",
       "    .dataframe thead th {\n",
       "        text-align: right;\n",
       "    }\n",
       "</style>\n",
       "<table border=\"1\" class=\"dataframe\">\n",
       "  <thead>\n",
       "    <tr style=\"text-align: right;\">\n",
       "      <th></th>\n",
       "      <th>id</th>\n",
       "      <th>saleprice</th>\n",
       "    </tr>\n",
       "  </thead>\n",
       "  <tbody>\n",
       "    <tr>\n",
       "      <th>0</th>\n",
       "      <td>2658</td>\n",
       "      <td>129740.108378</td>\n",
       "    </tr>\n",
       "    <tr>\n",
       "      <th>1</th>\n",
       "      <td>2718</td>\n",
       "      <td>164423.191209</td>\n",
       "    </tr>\n",
       "    <tr>\n",
       "      <th>2</th>\n",
       "      <td>2414</td>\n",
       "      <td>210837.664693</td>\n",
       "    </tr>\n",
       "    <tr>\n",
       "      <th>3</th>\n",
       "      <td>1989</td>\n",
       "      <td>111781.470704</td>\n",
       "    </tr>\n",
       "    <tr>\n",
       "      <th>4</th>\n",
       "      <td>625</td>\n",
       "      <td>190770.063650</td>\n",
       "    </tr>\n",
       "  </tbody>\n",
       "</table>\n",
       "</div>"
      ],
      "text/plain": [
       "     id      saleprice\n",
       "0  2658  129740.108378\n",
       "1  2718  164423.191209\n",
       "2  2414  210837.664693\n",
       "3  1989  111781.470704\n",
       "4   625  190770.063650"
      ]
     },
     "execution_count": 21,
     "metadata": {},
     "output_type": "execute_result"
    }
   ],
   "source": [
    "df_test.head()\n",
    "ridge_submission = df_test[['id', 'saleprice']]\n",
    "ridge_submission.head()"
   ]
  },
  {
   "cell_type": "code",
   "execution_count": 22,
   "id": "507bc5b5-8d31-4d1a-80ab-f2e0bbd92646",
   "metadata": {},
   "outputs": [],
   "source": [
    "ridge_submission.set_index('id', inplace=True) "
   ]
  },
  {
   "cell_type": "code",
   "execution_count": 23,
   "id": "b7bce2e9-52b0-4e34-8563-c3be8aed6b3f",
   "metadata": {},
   "outputs": [],
   "source": [
    "ridge_submission.to_csv('../../datasets/Model_submissions/ridge_submission.csv') \n"
   ]
  },
  {
   "cell_type": "code",
   "execution_count": null,
   "id": "7f900e35-f029-4780-83e5-a94eba09007f",
   "metadata": {},
   "outputs": [],
   "source": []
  }
 ],
 "metadata": {
  "kernelspec": {
   "display_name": "Python 3 (ipykernel)",
   "language": "python",
   "name": "python3"
  },
  "language_info": {
   "codemirror_mode": {
    "name": "ipython",
    "version": 3
   },
   "file_extension": ".py",
   "mimetype": "text/x-python",
   "name": "python",
   "nbconvert_exporter": "python",
   "pygments_lexer": "ipython3",
   "version": "3.9.7"
  }
 },
 "nbformat": 4,
 "nbformat_minor": 5
}
