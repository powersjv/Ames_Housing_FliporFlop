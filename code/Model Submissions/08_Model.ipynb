{
 "cells": [
  {
   "cell_type": "markdown",
   "id": "e94f10c4-64f4-4fa9-8f13-b4df473be2e0",
   "metadata": {},
   "source": [
    "**Fifth Model - Neighbordhoods, Overall Cond, Yr Blt/Remodel, 1st Flr SF & Gr Liv Area, Bath, Garage Area & Cars, Condition 1 (dummy), Functional, Misc Value ($), Garage Qual, Exterior Cond, Overall Qual. Max out at 49 Features**"
   ]
  },
  {
   "cell_type": "code",
   "execution_count": 1,
   "id": "18cb4e3e-b283-41a5-96ac-e9a0dc2e2343",
   "metadata": {},
   "outputs": [],
   "source": [
    "import pandas as pd\n",
    "import numpy as np\n",
    "import matplotlib.pyplot as plt\n",
    "import seaborn as sns\n",
    "\n",
    "from sklearn.linear_model import LinearRegression\n",
    "from sklearn.model_selection import train_test_split, cross_val_score\n",
    "from sklearn.preprocessing import PolynomialFeatures"
   ]
  },
  {
   "cell_type": "code",
   "execution_count": 2,
   "id": "2c892a9a-2901-487e-bbab-4ee0ab7f51b9",
   "metadata": {},
   "outputs": [],
   "source": [
    "#allows me to scroll (Credit to Andy)\n",
    "pd.options.display.max_columns = 999"
   ]
  },
  {
   "cell_type": "markdown",
   "id": "beb593d6-2376-462e-bc69-06ca08f5b5dc",
   "metadata": {},
   "source": [
    "**Step 1) Reading Data Dict and read in data.**"
   ]
  },
  {
   "cell_type": "code",
   "execution_count": 3,
   "id": "8f7e9e26-5fac-4080-8c2b-7303719d5e8d",
   "metadata": {},
   "outputs": [
    {
     "data": {
      "text/html": [
       "<div>\n",
       "<style scoped>\n",
       "    .dataframe tbody tr th:only-of-type {\n",
       "        vertical-align: middle;\n",
       "    }\n",
       "\n",
       "    .dataframe tbody tr th {\n",
       "        vertical-align: top;\n",
       "    }\n",
       "\n",
       "    .dataframe thead th {\n",
       "        text-align: right;\n",
       "    }\n",
       "</style>\n",
       "<table border=\"1\" class=\"dataframe\">\n",
       "  <thead>\n",
       "    <tr style=\"text-align: right;\">\n",
       "      <th></th>\n",
       "      <th>1st Flr SF</th>\n",
       "      <th>2nd Flr SF</th>\n",
       "      <th>3Ssn Porch</th>\n",
       "      <th>Alley</th>\n",
       "      <th>Bedroom AbvGr</th>\n",
       "      <th>Bldg Type</th>\n",
       "      <th>Bsmt Cond</th>\n",
       "      <th>Bsmt Exposure</th>\n",
       "      <th>Bsmt Full Bath</th>\n",
       "      <th>Bsmt Half Bath</th>\n",
       "      <th>Bsmt Qual</th>\n",
       "      <th>Bsmt Unf SF</th>\n",
       "      <th>BsmtFin SF 1</th>\n",
       "      <th>BsmtFin SF 2</th>\n",
       "      <th>BsmtFin Type 1</th>\n",
       "      <th>BsmtFin Type 2</th>\n",
       "      <th>Central Air</th>\n",
       "      <th>Condition 1</th>\n",
       "      <th>Condition 2</th>\n",
       "      <th>Electrical</th>\n",
       "      <th>Enclosed Porch</th>\n",
       "      <th>Exter Cond</th>\n",
       "      <th>Exter Qual</th>\n",
       "      <th>Exterior 1st</th>\n",
       "      <th>Exterior 2nd</th>\n",
       "      <th>Fence</th>\n",
       "      <th>Fireplace Qu</th>\n",
       "      <th>Fireplaces</th>\n",
       "      <th>Foundation</th>\n",
       "      <th>Full Bath</th>\n",
       "      <th>Functional</th>\n",
       "      <th>Garage Area</th>\n",
       "      <th>Garage Cars</th>\n",
       "      <th>Garage Cond</th>\n",
       "      <th>Garage Finish</th>\n",
       "      <th>Garage Qual</th>\n",
       "      <th>Garage Type</th>\n",
       "      <th>Garage Yr Blt</th>\n",
       "      <th>Gr Liv Area</th>\n",
       "      <th>Half Bath</th>\n",
       "      <th>Heating</th>\n",
       "      <th>Heating QC</th>\n",
       "      <th>House Style</th>\n",
       "      <th>Id</th>\n",
       "      <th>Kitchen AbvGr</th>\n",
       "      <th>Kitchen Qual</th>\n",
       "      <th>Land Contour</th>\n",
       "      <th>Land Slope</th>\n",
       "      <th>Lot Area</th>\n",
       "      <th>Lot Config</th>\n",
       "      <th>Lot Frontage</th>\n",
       "      <th>Lot Shape</th>\n",
       "      <th>Low Qual Fin SF</th>\n",
       "      <th>MS SubClass</th>\n",
       "      <th>MS Zoning</th>\n",
       "      <th>Mas Vnr Area</th>\n",
       "      <th>Mas Vnr Type</th>\n",
       "      <th>Misc Feature</th>\n",
       "      <th>Misc Val</th>\n",
       "      <th>Mo Sold</th>\n",
       "      <th>Neighborhood</th>\n",
       "      <th>Open Porch SF</th>\n",
       "      <th>Overall Cond</th>\n",
       "      <th>Overall Qual</th>\n",
       "      <th>PID</th>\n",
       "      <th>Paved Drive</th>\n",
       "      <th>Pool Area</th>\n",
       "      <th>Pool QC</th>\n",
       "      <th>Roof Matl</th>\n",
       "      <th>Roof Style</th>\n",
       "      <th>Sale Type</th>\n",
       "      <th>SalePrice</th>\n",
       "      <th>Screen Porch</th>\n",
       "      <th>Street</th>\n",
       "      <th>TotRms AbvGrd</th>\n",
       "      <th>Total Bsmt SF</th>\n",
       "      <th>Utilities</th>\n",
       "      <th>Wood Deck SF</th>\n",
       "      <th>Year Built</th>\n",
       "      <th>Year Remod/Add</th>\n",
       "      <th>Yr Sold</th>\n",
       "    </tr>\n",
       "  </thead>\n",
       "  <tbody>\n",
       "    <tr>\n",
       "      <th>0</th>\n",
       "      <td>725</td>\n",
       "      <td>754</td>\n",
       "      <td>0</td>\n",
       "      <td>NaN</td>\n",
       "      <td>3</td>\n",
       "      <td>1Fam</td>\n",
       "      <td>TA</td>\n",
       "      <td>No</td>\n",
       "      <td>0.0</td>\n",
       "      <td>0.0</td>\n",
       "      <td>TA</td>\n",
       "      <td>192.0</td>\n",
       "      <td>533.0</td>\n",
       "      <td>0.0</td>\n",
       "      <td>GLQ</td>\n",
       "      <td>Unf</td>\n",
       "      <td>Y</td>\n",
       "      <td>RRAe</td>\n",
       "      <td>Norm</td>\n",
       "      <td>SBrkr</td>\n",
       "      <td>0</td>\n",
       "      <td>TA</td>\n",
       "      <td>Gd</td>\n",
       "      <td>HdBoard</td>\n",
       "      <td>Plywood</td>\n",
       "      <td>NaN</td>\n",
       "      <td>NaN</td>\n",
       "      <td>0</td>\n",
       "      <td>CBlock</td>\n",
       "      <td>2</td>\n",
       "      <td>Typ</td>\n",
       "      <td>475.0</td>\n",
       "      <td>2.0</td>\n",
       "      <td>TA</td>\n",
       "      <td>RFn</td>\n",
       "      <td>TA</td>\n",
       "      <td>Attchd</td>\n",
       "      <td>1976.0</td>\n",
       "      <td>1479</td>\n",
       "      <td>1</td>\n",
       "      <td>GasA</td>\n",
       "      <td>Ex</td>\n",
       "      <td>2Story</td>\n",
       "      <td>109</td>\n",
       "      <td>1</td>\n",
       "      <td>Gd</td>\n",
       "      <td>Lvl</td>\n",
       "      <td>Gtl</td>\n",
       "      <td>13517</td>\n",
       "      <td>CulDSac</td>\n",
       "      <td>NaN</td>\n",
       "      <td>IR1</td>\n",
       "      <td>0</td>\n",
       "      <td>60</td>\n",
       "      <td>RL</td>\n",
       "      <td>289.0</td>\n",
       "      <td>BrkFace</td>\n",
       "      <td>NaN</td>\n",
       "      <td>0</td>\n",
       "      <td>3</td>\n",
       "      <td>Sawyer</td>\n",
       "      <td>44</td>\n",
       "      <td>8</td>\n",
       "      <td>6</td>\n",
       "      <td>533352170</td>\n",
       "      <td>Y</td>\n",
       "      <td>0</td>\n",
       "      <td>NaN</td>\n",
       "      <td>CompShg</td>\n",
       "      <td>Gable</td>\n",
       "      <td>WD</td>\n",
       "      <td>130500</td>\n",
       "      <td>0</td>\n",
       "      <td>Pave</td>\n",
       "      <td>6</td>\n",
       "      <td>725.0</td>\n",
       "      <td>AllPub</td>\n",
       "      <td>0</td>\n",
       "      <td>1976</td>\n",
       "      <td>2005</td>\n",
       "      <td>2010</td>\n",
       "    </tr>\n",
       "    <tr>\n",
       "      <th>1</th>\n",
       "      <td>913</td>\n",
       "      <td>1209</td>\n",
       "      <td>0</td>\n",
       "      <td>NaN</td>\n",
       "      <td>4</td>\n",
       "      <td>1Fam</td>\n",
       "      <td>TA</td>\n",
       "      <td>No</td>\n",
       "      <td>1.0</td>\n",
       "      <td>0.0</td>\n",
       "      <td>Gd</td>\n",
       "      <td>276.0</td>\n",
       "      <td>637.0</td>\n",
       "      <td>0.0</td>\n",
       "      <td>GLQ</td>\n",
       "      <td>Unf</td>\n",
       "      <td>Y</td>\n",
       "      <td>Norm</td>\n",
       "      <td>Norm</td>\n",
       "      <td>SBrkr</td>\n",
       "      <td>0</td>\n",
       "      <td>TA</td>\n",
       "      <td>Gd</td>\n",
       "      <td>VinylSd</td>\n",
       "      <td>VinylSd</td>\n",
       "      <td>NaN</td>\n",
       "      <td>TA</td>\n",
       "      <td>1</td>\n",
       "      <td>PConc</td>\n",
       "      <td>2</td>\n",
       "      <td>Typ</td>\n",
       "      <td>559.0</td>\n",
       "      <td>2.0</td>\n",
       "      <td>TA</td>\n",
       "      <td>RFn</td>\n",
       "      <td>TA</td>\n",
       "      <td>Attchd</td>\n",
       "      <td>1997.0</td>\n",
       "      <td>2122</td>\n",
       "      <td>1</td>\n",
       "      <td>GasA</td>\n",
       "      <td>Ex</td>\n",
       "      <td>2Story</td>\n",
       "      <td>544</td>\n",
       "      <td>1</td>\n",
       "      <td>Gd</td>\n",
       "      <td>Lvl</td>\n",
       "      <td>Gtl</td>\n",
       "      <td>11492</td>\n",
       "      <td>CulDSac</td>\n",
       "      <td>43.0</td>\n",
       "      <td>IR1</td>\n",
       "      <td>0</td>\n",
       "      <td>60</td>\n",
       "      <td>RL</td>\n",
       "      <td>132.0</td>\n",
       "      <td>BrkFace</td>\n",
       "      <td>NaN</td>\n",
       "      <td>0</td>\n",
       "      <td>4</td>\n",
       "      <td>SawyerW</td>\n",
       "      <td>74</td>\n",
       "      <td>5</td>\n",
       "      <td>7</td>\n",
       "      <td>531379050</td>\n",
       "      <td>Y</td>\n",
       "      <td>0</td>\n",
       "      <td>NaN</td>\n",
       "      <td>CompShg</td>\n",
       "      <td>Gable</td>\n",
       "      <td>WD</td>\n",
       "      <td>220000</td>\n",
       "      <td>0</td>\n",
       "      <td>Pave</td>\n",
       "      <td>8</td>\n",
       "      <td>913.0</td>\n",
       "      <td>AllPub</td>\n",
       "      <td>0</td>\n",
       "      <td>1996</td>\n",
       "      <td>1997</td>\n",
       "      <td>2009</td>\n",
       "    </tr>\n",
       "    <tr>\n",
       "      <th>2</th>\n",
       "      <td>1057</td>\n",
       "      <td>0</td>\n",
       "      <td>0</td>\n",
       "      <td>NaN</td>\n",
       "      <td>3</td>\n",
       "      <td>1Fam</td>\n",
       "      <td>TA</td>\n",
       "      <td>No</td>\n",
       "      <td>1.0</td>\n",
       "      <td>0.0</td>\n",
       "      <td>TA</td>\n",
       "      <td>326.0</td>\n",
       "      <td>731.0</td>\n",
       "      <td>0.0</td>\n",
       "      <td>GLQ</td>\n",
       "      <td>Unf</td>\n",
       "      <td>Y</td>\n",
       "      <td>Norm</td>\n",
       "      <td>Norm</td>\n",
       "      <td>SBrkr</td>\n",
       "      <td>0</td>\n",
       "      <td>Gd</td>\n",
       "      <td>TA</td>\n",
       "      <td>VinylSd</td>\n",
       "      <td>VinylSd</td>\n",
       "      <td>NaN</td>\n",
       "      <td>NaN</td>\n",
       "      <td>0</td>\n",
       "      <td>CBlock</td>\n",
       "      <td>1</td>\n",
       "      <td>Typ</td>\n",
       "      <td>246.0</td>\n",
       "      <td>1.0</td>\n",
       "      <td>TA</td>\n",
       "      <td>Unf</td>\n",
       "      <td>TA</td>\n",
       "      <td>Detchd</td>\n",
       "      <td>1953.0</td>\n",
       "      <td>1057</td>\n",
       "      <td>0</td>\n",
       "      <td>GasA</td>\n",
       "      <td>TA</td>\n",
       "      <td>1Story</td>\n",
       "      <td>153</td>\n",
       "      <td>1</td>\n",
       "      <td>Gd</td>\n",
       "      <td>Lvl</td>\n",
       "      <td>Gtl</td>\n",
       "      <td>7922</td>\n",
       "      <td>Inside</td>\n",
       "      <td>68.0</td>\n",
       "      <td>Reg</td>\n",
       "      <td>0</td>\n",
       "      <td>20</td>\n",
       "      <td>RL</td>\n",
       "      <td>0.0</td>\n",
       "      <td>None</td>\n",
       "      <td>NaN</td>\n",
       "      <td>0</td>\n",
       "      <td>1</td>\n",
       "      <td>NAmes</td>\n",
       "      <td>52</td>\n",
       "      <td>7</td>\n",
       "      <td>5</td>\n",
       "      <td>535304180</td>\n",
       "      <td>Y</td>\n",
       "      <td>0</td>\n",
       "      <td>NaN</td>\n",
       "      <td>CompShg</td>\n",
       "      <td>Gable</td>\n",
       "      <td>WD</td>\n",
       "      <td>109000</td>\n",
       "      <td>0</td>\n",
       "      <td>Pave</td>\n",
       "      <td>5</td>\n",
       "      <td>1057.0</td>\n",
       "      <td>AllPub</td>\n",
       "      <td>0</td>\n",
       "      <td>1953</td>\n",
       "      <td>2007</td>\n",
       "      <td>2010</td>\n",
       "    </tr>\n",
       "    <tr>\n",
       "      <th>3</th>\n",
       "      <td>744</td>\n",
       "      <td>700</td>\n",
       "      <td>0</td>\n",
       "      <td>NaN</td>\n",
       "      <td>3</td>\n",
       "      <td>1Fam</td>\n",
       "      <td>TA</td>\n",
       "      <td>No</td>\n",
       "      <td>0.0</td>\n",
       "      <td>0.0</td>\n",
       "      <td>Gd</td>\n",
       "      <td>384.0</td>\n",
       "      <td>0.0</td>\n",
       "      <td>0.0</td>\n",
       "      <td>Unf</td>\n",
       "      <td>Unf</td>\n",
       "      <td>Y</td>\n",
       "      <td>Norm</td>\n",
       "      <td>Norm</td>\n",
       "      <td>SBrkr</td>\n",
       "      <td>0</td>\n",
       "      <td>TA</td>\n",
       "      <td>TA</td>\n",
       "      <td>VinylSd</td>\n",
       "      <td>VinylSd</td>\n",
       "      <td>NaN</td>\n",
       "      <td>NaN</td>\n",
       "      <td>0</td>\n",
       "      <td>PConc</td>\n",
       "      <td>2</td>\n",
       "      <td>Typ</td>\n",
       "      <td>400.0</td>\n",
       "      <td>2.0</td>\n",
       "      <td>TA</td>\n",
       "      <td>Fin</td>\n",
       "      <td>TA</td>\n",
       "      <td>BuiltIn</td>\n",
       "      <td>2007.0</td>\n",
       "      <td>1444</td>\n",
       "      <td>1</td>\n",
       "      <td>GasA</td>\n",
       "      <td>Gd</td>\n",
       "      <td>2Story</td>\n",
       "      <td>318</td>\n",
       "      <td>1</td>\n",
       "      <td>TA</td>\n",
       "      <td>Lvl</td>\n",
       "      <td>Gtl</td>\n",
       "      <td>9802</td>\n",
       "      <td>Inside</td>\n",
       "      <td>73.0</td>\n",
       "      <td>Reg</td>\n",
       "      <td>0</td>\n",
       "      <td>60</td>\n",
       "      <td>RL</td>\n",
       "      <td>0.0</td>\n",
       "      <td>None</td>\n",
       "      <td>NaN</td>\n",
       "      <td>0</td>\n",
       "      <td>4</td>\n",
       "      <td>Timber</td>\n",
       "      <td>0</td>\n",
       "      <td>5</td>\n",
       "      <td>5</td>\n",
       "      <td>916386060</td>\n",
       "      <td>Y</td>\n",
       "      <td>0</td>\n",
       "      <td>NaN</td>\n",
       "      <td>CompShg</td>\n",
       "      <td>Gable</td>\n",
       "      <td>WD</td>\n",
       "      <td>174000</td>\n",
       "      <td>0</td>\n",
       "      <td>Pave</td>\n",
       "      <td>7</td>\n",
       "      <td>384.0</td>\n",
       "      <td>AllPub</td>\n",
       "      <td>100</td>\n",
       "      <td>2006</td>\n",
       "      <td>2007</td>\n",
       "      <td>2010</td>\n",
       "    </tr>\n",
       "    <tr>\n",
       "      <th>4</th>\n",
       "      <td>831</td>\n",
       "      <td>614</td>\n",
       "      <td>0</td>\n",
       "      <td>NaN</td>\n",
       "      <td>3</td>\n",
       "      <td>1Fam</td>\n",
       "      <td>Gd</td>\n",
       "      <td>No</td>\n",
       "      <td>0.0</td>\n",
       "      <td>0.0</td>\n",
       "      <td>Fa</td>\n",
       "      <td>676.0</td>\n",
       "      <td>0.0</td>\n",
       "      <td>0.0</td>\n",
       "      <td>Unf</td>\n",
       "      <td>Unf</td>\n",
       "      <td>Y</td>\n",
       "      <td>Norm</td>\n",
       "      <td>Norm</td>\n",
       "      <td>SBrkr</td>\n",
       "      <td>0</td>\n",
       "      <td>TA</td>\n",
       "      <td>TA</td>\n",
       "      <td>Wd Sdng</td>\n",
       "      <td>Plywood</td>\n",
       "      <td>NaN</td>\n",
       "      <td>NaN</td>\n",
       "      <td>0</td>\n",
       "      <td>PConc</td>\n",
       "      <td>2</td>\n",
       "      <td>Typ</td>\n",
       "      <td>484.0</td>\n",
       "      <td>2.0</td>\n",
       "      <td>TA</td>\n",
       "      <td>Unf</td>\n",
       "      <td>TA</td>\n",
       "      <td>Detchd</td>\n",
       "      <td>1957.0</td>\n",
       "      <td>1445</td>\n",
       "      <td>0</td>\n",
       "      <td>GasA</td>\n",
       "      <td>TA</td>\n",
       "      <td>1.5Fin</td>\n",
       "      <td>255</td>\n",
       "      <td>1</td>\n",
       "      <td>TA</td>\n",
       "      <td>Lvl</td>\n",
       "      <td>Gtl</td>\n",
       "      <td>14235</td>\n",
       "      <td>Inside</td>\n",
       "      <td>82.0</td>\n",
       "      <td>IR1</td>\n",
       "      <td>0</td>\n",
       "      <td>50</td>\n",
       "      <td>RL</td>\n",
       "      <td>0.0</td>\n",
       "      <td>None</td>\n",
       "      <td>NaN</td>\n",
       "      <td>0</td>\n",
       "      <td>3</td>\n",
       "      <td>SawyerW</td>\n",
       "      <td>59</td>\n",
       "      <td>8</td>\n",
       "      <td>6</td>\n",
       "      <td>906425045</td>\n",
       "      <td>N</td>\n",
       "      <td>0</td>\n",
       "      <td>NaN</td>\n",
       "      <td>CompShg</td>\n",
       "      <td>Gable</td>\n",
       "      <td>WD</td>\n",
       "      <td>138500</td>\n",
       "      <td>0</td>\n",
       "      <td>Pave</td>\n",
       "      <td>6</td>\n",
       "      <td>676.0</td>\n",
       "      <td>AllPub</td>\n",
       "      <td>0</td>\n",
       "      <td>1900</td>\n",
       "      <td>1993</td>\n",
       "      <td>2010</td>\n",
       "    </tr>\n",
       "  </tbody>\n",
       "</table>\n",
       "</div>"
      ],
      "text/plain": [
       "   1st Flr SF  2nd Flr SF  3Ssn Porch Alley  Bedroom AbvGr Bldg Type  \\\n",
       "0         725         754           0   NaN              3      1Fam   \n",
       "1         913        1209           0   NaN              4      1Fam   \n",
       "2        1057           0           0   NaN              3      1Fam   \n",
       "3         744         700           0   NaN              3      1Fam   \n",
       "4         831         614           0   NaN              3      1Fam   \n",
       "\n",
       "  Bsmt Cond Bsmt Exposure  Bsmt Full Bath  Bsmt Half Bath Bsmt Qual  \\\n",
       "0        TA            No             0.0             0.0        TA   \n",
       "1        TA            No             1.0             0.0        Gd   \n",
       "2        TA            No             1.0             0.0        TA   \n",
       "3        TA            No             0.0             0.0        Gd   \n",
       "4        Gd            No             0.0             0.0        Fa   \n",
       "\n",
       "   Bsmt Unf SF  BsmtFin SF 1  BsmtFin SF 2 BsmtFin Type 1 BsmtFin Type 2  \\\n",
       "0        192.0         533.0           0.0            GLQ            Unf   \n",
       "1        276.0         637.0           0.0            GLQ            Unf   \n",
       "2        326.0         731.0           0.0            GLQ            Unf   \n",
       "3        384.0           0.0           0.0            Unf            Unf   \n",
       "4        676.0           0.0           0.0            Unf            Unf   \n",
       "\n",
       "  Central Air Condition 1 Condition 2 Electrical  Enclosed Porch Exter Cond  \\\n",
       "0           Y        RRAe        Norm      SBrkr               0         TA   \n",
       "1           Y        Norm        Norm      SBrkr               0         TA   \n",
       "2           Y        Norm        Norm      SBrkr               0         Gd   \n",
       "3           Y        Norm        Norm      SBrkr               0         TA   \n",
       "4           Y        Norm        Norm      SBrkr               0         TA   \n",
       "\n",
       "  Exter Qual Exterior 1st Exterior 2nd Fence Fireplace Qu  Fireplaces  \\\n",
       "0         Gd      HdBoard      Plywood   NaN          NaN           0   \n",
       "1         Gd      VinylSd      VinylSd   NaN           TA           1   \n",
       "2         TA      VinylSd      VinylSd   NaN          NaN           0   \n",
       "3         TA      VinylSd      VinylSd   NaN          NaN           0   \n",
       "4         TA      Wd Sdng      Plywood   NaN          NaN           0   \n",
       "\n",
       "  Foundation  Full Bath Functional  Garage Area  Garage Cars Garage Cond  \\\n",
       "0     CBlock          2        Typ        475.0          2.0          TA   \n",
       "1      PConc          2        Typ        559.0          2.0          TA   \n",
       "2     CBlock          1        Typ        246.0          1.0          TA   \n",
       "3      PConc          2        Typ        400.0          2.0          TA   \n",
       "4      PConc          2        Typ        484.0          2.0          TA   \n",
       "\n",
       "  Garage Finish Garage Qual Garage Type  Garage Yr Blt  Gr Liv Area  \\\n",
       "0           RFn          TA      Attchd         1976.0         1479   \n",
       "1           RFn          TA      Attchd         1997.0         2122   \n",
       "2           Unf          TA      Detchd         1953.0         1057   \n",
       "3           Fin          TA     BuiltIn         2007.0         1444   \n",
       "4           Unf          TA      Detchd         1957.0         1445   \n",
       "\n",
       "   Half Bath Heating Heating QC House Style   Id  Kitchen AbvGr Kitchen Qual  \\\n",
       "0          1    GasA         Ex      2Story  109              1           Gd   \n",
       "1          1    GasA         Ex      2Story  544              1           Gd   \n",
       "2          0    GasA         TA      1Story  153              1           Gd   \n",
       "3          1    GasA         Gd      2Story  318              1           TA   \n",
       "4          0    GasA         TA      1.5Fin  255              1           TA   \n",
       "\n",
       "  Land Contour Land Slope  Lot Area Lot Config  Lot Frontage Lot Shape  \\\n",
       "0          Lvl        Gtl     13517    CulDSac           NaN       IR1   \n",
       "1          Lvl        Gtl     11492    CulDSac          43.0       IR1   \n",
       "2          Lvl        Gtl      7922     Inside          68.0       Reg   \n",
       "3          Lvl        Gtl      9802     Inside          73.0       Reg   \n",
       "4          Lvl        Gtl     14235     Inside          82.0       IR1   \n",
       "\n",
       "   Low Qual Fin SF  MS SubClass MS Zoning  Mas Vnr Area Mas Vnr Type  \\\n",
       "0                0           60        RL         289.0      BrkFace   \n",
       "1                0           60        RL         132.0      BrkFace   \n",
       "2                0           20        RL           0.0         None   \n",
       "3                0           60        RL           0.0         None   \n",
       "4                0           50        RL           0.0         None   \n",
       "\n",
       "  Misc Feature  Misc Val  Mo Sold Neighborhood  Open Porch SF  Overall Cond  \\\n",
       "0          NaN         0        3       Sawyer             44             8   \n",
       "1          NaN         0        4      SawyerW             74             5   \n",
       "2          NaN         0        1        NAmes             52             7   \n",
       "3          NaN         0        4       Timber              0             5   \n",
       "4          NaN         0        3      SawyerW             59             8   \n",
       "\n",
       "   Overall Qual        PID Paved Drive  Pool Area Pool QC Roof Matl  \\\n",
       "0             6  533352170           Y          0     NaN   CompShg   \n",
       "1             7  531379050           Y          0     NaN   CompShg   \n",
       "2             5  535304180           Y          0     NaN   CompShg   \n",
       "3             5  916386060           Y          0     NaN   CompShg   \n",
       "4             6  906425045           N          0     NaN   CompShg   \n",
       "\n",
       "  Roof Style Sale Type  SalePrice  Screen Porch Street  TotRms AbvGrd  \\\n",
       "0      Gable       WD      130500             0   Pave              6   \n",
       "1      Gable       WD      220000             0   Pave              8   \n",
       "2      Gable       WD      109000             0   Pave              5   \n",
       "3      Gable       WD      174000             0   Pave              7   \n",
       "4      Gable       WD      138500             0   Pave              6   \n",
       "\n",
       "   Total Bsmt SF Utilities  Wood Deck SF  Year Built  Year Remod/Add  Yr Sold  \n",
       "0          725.0    AllPub             0        1976            2005     2010  \n",
       "1          913.0    AllPub             0        1996            1997     2009  \n",
       "2         1057.0    AllPub             0        1953            2007     2010  \n",
       "3          384.0    AllPub           100        2006            2007     2010  \n",
       "4          676.0    AllPub             0        1900            1993     2010  "
      ]
     },
     "execution_count": 3,
     "metadata": {},
     "output_type": "execute_result"
    }
   ],
   "source": [
    "df = pd.read_csv('../datasets/train.csv')\n",
    "df_test = pd.read_csv('../datasets/test.csv')\n",
    "\n",
    "#Allows me to put columns in alphabetical order (Credit to Andy)\n",
    "df = df.reindex(sorted(df.columns), axis=1)\n",
    "df_test = df_test.reindex(sorted(df_test.columns), axis=1)\n",
    "df.head()"
   ]
  },
  {
   "cell_type": "code",
   "execution_count": null,
   "id": "5c490c36-330a-4ab2-81f0-82521b5165f3",
   "metadata": {},
   "outputs": [],
   "source": []
  },
  {
   "cell_type": "markdown",
   "id": "faf473fc-c3c9-4726-8514-9ea0bfed9551",
   "metadata": {},
   "source": [
    "**Step 2) Feature selection**"
   ]
  },
  {
   "cell_type": "code",
   "execution_count": 4,
   "id": "eafaba9d-4d68-4b23-abe3-e1b343ea0e5e",
   "metadata": {},
   "outputs": [
    {
     "data": {
      "text/plain": [
       "SalePrice          1.000000\n",
       "Overall Qual       0.800207\n",
       "Gr Liv Area        0.697038\n",
       "Garage Area        0.650270\n",
       "Garage Cars        0.648220\n",
       "Total Bsmt SF      0.628925\n",
       "1st Flr SF         0.618486\n",
       "Year Built         0.571849\n",
       "Year Remod/Add     0.550370\n",
       "Full Bath          0.537969\n",
       "Garage Yr Blt      0.533922\n",
       "Mas Vnr Area       0.512230\n",
       "TotRms AbvGrd      0.504014\n",
       "Fireplaces         0.471093\n",
       "BsmtFin SF 1       0.423519\n",
       "Lot Frontage       0.341842\n",
       "Open Porch SF      0.333476\n",
       "Wood Deck SF       0.326490\n",
       "Lot Area           0.296566\n",
       "Bsmt Full Bath     0.283662\n",
       "Half Bath          0.283001\n",
       "2nd Flr SF         0.248452\n",
       "Bsmt Unf SF        0.190210\n",
       "Bedroom AbvGr      0.137067\n",
       "Screen Porch       0.134581\n",
       "3Ssn Porch         0.048732\n",
       "Mo Sold            0.032735\n",
       "Pool Area          0.023106\n",
       "BsmtFin SF 2       0.016255\n",
       "Misc Val          -0.007375\n",
       "Yr Sold           -0.015203\n",
       "Low Qual Fin SF   -0.041594\n",
       "Bsmt Half Bath    -0.045328\n",
       "Id                -0.051398\n",
       "MS SubClass       -0.087335\n",
       "Overall Cond      -0.097019\n",
       "Kitchen AbvGr     -0.125444\n",
       "Enclosed Porch    -0.135656\n",
       "PID               -0.255052\n",
       "Name: SalePrice, dtype: float64"
      ]
     },
     "execution_count": 4,
     "metadata": {},
     "output_type": "execute_result"
    }
   ],
   "source": [
    "df.corr()['SalePrice'].sort_values(ascending = False)"
   ]
  },
  {
   "cell_type": "code",
   "execution_count": 5,
   "id": "fe570f46-0fd1-4b04-a006-5f8a09863933",
   "metadata": {},
   "outputs": [
    {
     "data": {
      "text/plain": [
       "<AxesSubplot:>"
      ]
     },
     "execution_count": 5,
     "metadata": {},
     "output_type": "execute_result"
    },
    {
     "data": {
      "image/png": "[encoded data removed]",
      "text/plain": [
       "<Figure size 360x1080 with 2 Axes>"
      ]
     },
     "metadata": {
      "needs_background": "light"
     },
     "output_type": "display_data"
    }
   ],
   "source": [
    "plt.figure(figsize = (5, 15))\n",
    "sns.heatmap(df.corr()[['SalePrice']].sort_values('SalePrice', ascending = False), cmap = 'coolwarm', vmin = -1, vmax = 1, annot = True)"
   ]
  },
  {
   "cell_type": "code",
   "execution_count": 6,
   "id": "5a14397c-1f91-40fa-965d-19974b99b5d8",
   "metadata": {},
   "outputs": [
    {
     "data": {
      "text/plain": [
       "1st Flr SF           0\n",
       "2nd Flr SF           0\n",
       "3Ssn Porch           0\n",
       "Bedroom AbvGr        0\n",
       "Bsmt Full Bath       2\n",
       "Bsmt Half Bath       2\n",
       "Bsmt Unf SF          1\n",
       "BsmtFin SF 1         1\n",
       "BsmtFin SF 2         1\n",
       "Enclosed Porch       0\n",
       "Fireplaces           0\n",
       "Full Bath            0\n",
       "Garage Area          1\n",
       "Garage Cars          1\n",
       "Garage Yr Blt      114\n",
       "Gr Liv Area          0\n",
       "Half Bath            0\n",
       "Id                   0\n",
       "Kitchen AbvGr        0\n",
       "Lot Area             0\n",
       "Lot Frontage       330\n",
       "Low Qual Fin SF      0\n",
       "MS SubClass          0\n",
       "Mas Vnr Area        22\n",
       "Misc Val             0\n",
       "Mo Sold              0\n",
       "Open Porch SF        0\n",
       "Overall Cond         0\n",
       "Overall Qual         0\n",
       "PID                  0\n",
       "Pool Area            0\n",
       "SalePrice            0\n",
       "Screen Porch         0\n",
       "TotRms AbvGrd        0\n",
       "Total Bsmt SF        1\n",
       "Wood Deck SF         0\n",
       "Year Built           0\n",
       "Year Remod/Add       0\n",
       "Yr Sold              0\n",
       "dtype: int64"
      ]
     },
     "execution_count": 6,
     "metadata": {},
     "output_type": "execute_result"
    }
   ],
   "source": [
    "df._get_numeric_data().isnull().sum()"
   ]
  },
  {
   "cell_type": "code",
   "execution_count": 7,
   "id": "fb881046-1395-47d5-9aea-6d345f513b96",
   "metadata": {},
   "outputs": [
    {
     "data": {
      "text/plain": [
       "Alley             object\n",
       "Bldg Type         object\n",
       "Bsmt Cond         object\n",
       "Bsmt Exposure     object\n",
       "Bsmt Qual         object\n",
       "BsmtFin Type 1    object\n",
       "BsmtFin Type 2    object\n",
       "Central Air       object\n",
       "Condition 1       object\n",
       "Condition 2       object\n",
       "Electrical        object\n",
       "Exter Cond        object\n",
       "Exter Qual        object\n",
       "Exterior 1st      object\n",
       "Exterior 2nd      object\n",
       "Fence             object\n",
       "Fireplace Qu      object\n",
       "Foundation        object\n",
       "Functional        object\n",
       "Garage Cond       object\n",
       "Garage Finish     object\n",
       "Garage Qual       object\n",
       "Garage Type       object\n",
       "Heating           object\n",
       "Heating QC        object\n",
       "House Style       object\n",
       "Kitchen Qual      object\n",
       "Land Contour      object\n",
       "Land Slope        object\n",
       "Lot Config        object\n",
       "Lot Shape         object\n",
       "MS Zoning         object\n",
       "Mas Vnr Type      object\n",
       "Misc Feature      object\n",
       "Neighborhood      object\n",
       "Paved Drive       object\n",
       "Pool QC           object\n",
       "Roof Matl         object\n",
       "Roof Style        object\n",
       "Sale Type         object\n",
       "Street            object\n",
       "Utilities         object\n",
       "dtype: object"
      ]
     },
     "execution_count": 7,
     "metadata": {},
     "output_type": "execute_result"
    }
   ],
   "source": [
    "df.select_dtypes(include=['object']).dtypes"
   ]
  },
  {
   "cell_type": "code",
   "execution_count": 8,
   "id": "16c55fb7-b94b-4708-b935-06ea9124b679",
   "metadata": {},
   "outputs": [
    {
     "data": {
      "text/plain": [
       "array(['Sawyer', 'SawyerW', 'NAmes', 'Timber', 'Edwards', 'OldTown',\n",
       "       'BrDale', 'CollgCr', 'Somerst', 'Mitchel', 'StoneBr', 'NridgHt',\n",
       "       'Gilbert', 'Crawfor', 'IDOTRR', 'NWAmes', 'Veenker', 'MeadowV',\n",
       "       'SWISU', 'NoRidge', 'ClearCr', 'Blmngtn', 'BrkSide', 'NPkVill',\n",
       "       'Blueste', 'GrnHill', 'Greens', 'Landmrk'], dtype=object)"
      ]
     },
     "execution_count": 8,
     "metadata": {},
     "output_type": "execute_result"
    }
   ],
   "source": [
    "#df['bsmt_cond_num'] = df['bsmt_cond'].map({'Ex': 6, 'Gd':5, 'TA': 4, 'Fa':3, 'Po':2, 'NA':1})\n",
    "df['Neighborhood'].unique()"
   ]
  },
  {
   "cell_type": "code",
   "execution_count": 9,
   "id": "750be5b7-4b0a-4436-9ec1-92145216d3e0",
   "metadata": {},
   "outputs": [
    {
     "data": {
      "text/plain": [
       "(2051, 81)"
      ]
     },
     "execution_count": 9,
     "metadata": {},
     "output_type": "execute_result"
    }
   ],
   "source": [
    "df.shape"
   ]
  },
  {
   "cell_type": "markdown",
   "id": "a1eb5f9e-6bb7-477e-83f9-8a8463777ae6",
   "metadata": {},
   "source": [
    "**Step 3) Investigate the Features**\n",
    "\n",
    "Going through and looking for null values on each of the features."
   ]
  },
  {
   "cell_type": "code",
   "execution_count": 10,
   "id": "cb03f25e-8168-4d39-8901-4fd70170bb09",
   "metadata": {},
   "outputs": [
    {
     "data": {
      "text/plain": [
       "count     2051\n",
       "unique       4\n",
       "top         TA\n",
       "freq      1047\n",
       "Name: Kitchen Qual, dtype: object"
      ]
     },
     "execution_count": 10,
     "metadata": {},
     "output_type": "execute_result"
    }
   ],
   "source": [
    "df['Kitchen Qual'].describe()"
   ]
  },
  {
   "cell_type": "code",
   "execution_count": 11,
   "id": "ff460f06-1925-4b1d-9ae2-f4e8e07c1cac",
   "metadata": {},
   "outputs": [
    {
     "data": {
      "text/plain": [
       "0"
      ]
     },
     "execution_count": 11,
     "metadata": {},
     "output_type": "execute_result"
    }
   ],
   "source": [
    "df['Kitchen Qual'].isnull().sum()"
   ]
  },
  {
   "cell_type": "code",
   "execution_count": 12,
   "id": "91fa421c-eced-4351-b4e1-a9adb115282b",
   "metadata": {},
   "outputs": [],
   "source": [
    "#Because this is an object but can be ranked, I will replace the scores of Ex, Gd, TA, Fa, Po with numbers.\n",
    "df['Kitchen Qual Num'] = df['Kitchen Qual'].map({'Ex': 5, 'Gd':4, 'TA': 3, 'Fa':2, 'Po':1, 'NA':0})"
   ]
  },
  {
   "cell_type": "code",
   "execution_count": 13,
   "id": "51260b86-628e-4f7a-84ec-9ac9461d1740",
   "metadata": {},
   "outputs": [],
   "source": [
    "df['Functional Num'] = df['Functional'].map({'Typ': 7, 'Min1': 6, 'Min2': 5, 'Mod':4, 'Maj1': 3, 'Maj2':2, 'Sev':1, 'Sal':0})"
   ]
  },
  {
   "cell_type": "markdown",
   "id": "92e389e4-3358-4387-b29f-f0f42c19c6c4",
   "metadata": {},
   "source": [
    "Going to clean the Garage Qual column by first changing NaN to 'NA'. Then changeing the words to values because they are ordinal."
   ]
  },
  {
   "cell_type": "code",
   "execution_count": 14,
   "id": "89ddb4fc-6edc-4f6c-b169-e3e337e5c084",
   "metadata": {},
   "outputs": [],
   "source": [
    "df['Garage Qual'].fillna('NA', inplace=True)"
   ]
  },
  {
   "cell_type": "code",
   "execution_count": 15,
   "id": "e4df28ea-9a3d-44ee-98e3-7b469b7c39d6",
   "metadata": {},
   "outputs": [],
   "source": [
    "df['Garage Qual Num'] = df['Garage Qual'].map({'Ex': 5, 'Gd':4, 'TA': 3, 'Fa':2, 'Po':1, 'NA':0})"
   ]
  },
  {
   "cell_type": "code",
   "execution_count": 16,
   "id": "7ce766f9-5787-4377-b73a-ceffe3730d24",
   "metadata": {},
   "outputs": [],
   "source": [
    "df['Exter Cond Num'] = df['Exter Cond'].map({'Ex': 5, 'Gd':4, 'TA': 3, 'Fa':2, 'Po':1, 'NA':0})"
   ]
  },
  {
   "cell_type": "code",
   "execution_count": 17,
   "id": "ab08f9f6-0cd4-4b7d-9a1e-83c153d98031",
   "metadata": {},
   "outputs": [
    {
     "data": {
      "text/plain": [
       "count     2051.000000\n",
       "mean        51.574354\n",
       "std        573.393985\n",
       "min          0.000000\n",
       "25%          0.000000\n",
       "50%          0.000000\n",
       "75%          0.000000\n",
       "max      17000.000000\n",
       "Name: Misc Val, dtype: float64"
      ]
     },
     "execution_count": 17,
     "metadata": {},
     "output_type": "execute_result"
    }
   ],
   "source": [
    "df['Misc Val'].describe()"
   ]
  },
  {
   "cell_type": "code",
   "execution_count": 18,
   "id": "66dee926-0197-4c39-87d3-a668f4bf0fb9",
   "metadata": {},
   "outputs": [
    {
     "data": {
      "text/plain": [
       "0"
      ]
     },
     "execution_count": 18,
     "metadata": {},
     "output_type": "execute_result"
    }
   ],
   "source": [
    "df['Misc Val'].isnull().sum()"
   ]
  },
  {
   "cell_type": "code",
   "execution_count": 19,
   "id": "ec268b56-488a-4be1-860f-b1666a606507",
   "metadata": {},
   "outputs": [
    {
     "data": {
      "text/plain": [
       "count    2051.000000\n",
       "mean        6.112140\n",
       "std         1.426271\n",
       "min         1.000000\n",
       "25%         5.000000\n",
       "50%         6.000000\n",
       "75%         7.000000\n",
       "max        10.000000\n",
       "Name: Overall Qual, dtype: float64"
      ]
     },
     "execution_count": 19,
     "metadata": {},
     "output_type": "execute_result"
    }
   ],
   "source": [
    "df['Overall Qual'].describe()"
   ]
  },
  {
   "cell_type": "code",
   "execution_count": 20,
   "id": "27a661c8-afd8-4b89-8397-8f38b7829fdd",
   "metadata": {},
   "outputs": [
    {
     "data": {
      "text/plain": [
       "0"
      ]
     },
     "execution_count": 20,
     "metadata": {},
     "output_type": "execute_result"
    }
   ],
   "source": [
    "df['Overall Qual'].isnull().sum()"
   ]
  },
  {
   "cell_type": "code",
   "execution_count": 21,
   "id": "7cf0e023-8dc7-4302-a9a6-c34086ceda08",
   "metadata": {},
   "outputs": [
    {
     "data": {
      "text/plain": [
       "count    2051.000000\n",
       "mean        1.577279\n",
       "std         0.549279\n",
       "min         0.000000\n",
       "25%         1.000000\n",
       "50%         2.000000\n",
       "75%         2.000000\n",
       "max         4.000000\n",
       "Name: Full Bath, dtype: float64"
      ]
     },
     "execution_count": 21,
     "metadata": {},
     "output_type": "execute_result"
    }
   ],
   "source": [
    "df['Full Bath'].describe()"
   ]
  },
  {
   "cell_type": "code",
   "execution_count": 22,
   "id": "3c0c2845-db8d-48dd-8473-2579edfb8e4f",
   "metadata": {},
   "outputs": [
    {
     "data": {
      "text/plain": [
       "0"
      ]
     },
     "execution_count": 22,
     "metadata": {},
     "output_type": "execute_result"
    }
   ],
   "source": [
    "df['Full Bath'].isnull().sum()"
   ]
  },
  {
   "cell_type": "markdown",
   "id": "9e36810b-0cd3-49ac-b13f-815800623052",
   "metadata": {},
   "source": [
    "**Step 4) Feature Engineering**"
   ]
  },
  {
   "cell_type": "code",
   "execution_count": 23,
   "id": "18e6fc10-a52d-4d76-8d74-a45990065d17",
   "metadata": {},
   "outputs": [
    {
     "data": {
      "text/plain": [
       "count    2051.000000\n",
       "mean     1984.190151\n",
       "std        21.036250\n",
       "min      1950.000000\n",
       "25%      1964.500000\n",
       "50%      1993.000000\n",
       "75%      2004.000000\n",
       "max      2010.000000\n",
       "Name: Year Remod/Add, dtype: float64"
      ]
     },
     "execution_count": 23,
     "metadata": {},
     "output_type": "execute_result"
    }
   ],
   "source": [
    "df['Year Remod/Add'].describe()"
   ]
  },
  {
   "cell_type": "code",
   "execution_count": 24,
   "id": "d1185fc2-ec0d-4e87-8f29-c75e24795719",
   "metadata": {},
   "outputs": [
    {
     "data": {
      "text/plain": [
       "0"
      ]
     },
     "execution_count": 24,
     "metadata": {},
     "output_type": "execute_result"
    }
   ],
   "source": [
    "df['Year Remod/Add'].isnull().sum()"
   ]
  },
  {
   "cell_type": "code",
   "execution_count": 25,
   "id": "6c380780-98b4-4ee3-bb9e-7624ce016e11",
   "metadata": {},
   "outputs": [
    {
     "data": {
      "text/plain": [
       "814     1950\n",
       "1077    1950\n",
       "1079    1950\n",
       "362     1950\n",
       "1088    1950\n",
       "        ... \n",
       "1671    2010\n",
       "144     2010\n",
       "398     2010\n",
       "172     2010\n",
       "142     2010\n",
       "Name: Year Remod/Add, Length: 2051, dtype: int64"
      ]
     },
     "execution_count": 25,
     "metadata": {},
     "output_type": "execute_result"
    }
   ],
   "source": [
    "df['Year Remod/Add'].sort_values()"
   ]
  },
  {
   "cell_type": "code",
   "execution_count": 26,
   "id": "9976e7d4-775b-45ac-9f71-bf476e7cba3a",
   "metadata": {},
   "outputs": [],
   "source": [
    "#filling in the one missing value with the Median since according to the data there is a detached garage.\n",
    "df['Garage Area'].fillna(df['Garage Area'].median(), inplace = True)\n",
    "df['Garage Cars'].fillna(df['Garage Cars'].median(), inplace = True)"
   ]
  },
  {
   "cell_type": "code",
   "execution_count": 27,
   "id": "06ee5319-3ed2-4f0e-b539-a5cb1e1cb1d0",
   "metadata": {},
   "outputs": [
    {
     "data": {
      "text/html": [
       "<div>\n",
       "<style scoped>\n",
       "    .dataframe tbody tr th:only-of-type {\n",
       "        vertical-align: middle;\n",
       "    }\n",
       "\n",
       "    .dataframe tbody tr th {\n",
       "        vertical-align: top;\n",
       "    }\n",
       "\n",
       "    .dataframe thead th {\n",
       "        text-align: right;\n",
       "    }\n",
       "</style>\n",
       "<table border=\"1\" class=\"dataframe\">\n",
       "  <thead>\n",
       "    <tr style=\"text-align: right;\">\n",
       "      <th></th>\n",
       "      <th>1st Flr SF</th>\n",
       "      <th>2nd Flr SF</th>\n",
       "      <th>3Ssn Porch</th>\n",
       "      <th>Alley</th>\n",
       "      <th>Bedroom AbvGr</th>\n",
       "      <th>Bldg Type</th>\n",
       "      <th>Bsmt Cond</th>\n",
       "      <th>Bsmt Exposure</th>\n",
       "      <th>Bsmt Full Bath</th>\n",
       "      <th>Bsmt Half Bath</th>\n",
       "      <th>Bsmt Qual</th>\n",
       "      <th>Bsmt Unf SF</th>\n",
       "      <th>BsmtFin SF 1</th>\n",
       "      <th>BsmtFin SF 2</th>\n",
       "      <th>BsmtFin Type 1</th>\n",
       "      <th>BsmtFin Type 2</th>\n",
       "      <th>Central Air</th>\n",
       "      <th>Condition 1</th>\n",
       "      <th>Condition 2</th>\n",
       "      <th>Electrical</th>\n",
       "      <th>Enclosed Porch</th>\n",
       "      <th>Exter Cond</th>\n",
       "      <th>Exter Qual</th>\n",
       "      <th>Exterior 1st</th>\n",
       "      <th>Exterior 2nd</th>\n",
       "      <th>Fence</th>\n",
       "      <th>Fireplace Qu</th>\n",
       "      <th>Fireplaces</th>\n",
       "      <th>Foundation</th>\n",
       "      <th>Full Bath</th>\n",
       "      <th>Functional</th>\n",
       "      <th>Garage Area</th>\n",
       "      <th>Garage Cars</th>\n",
       "      <th>Garage Cond</th>\n",
       "      <th>Garage Finish</th>\n",
       "      <th>Garage Qual</th>\n",
       "      <th>Garage Type</th>\n",
       "      <th>Garage Yr Blt</th>\n",
       "      <th>Gr Liv Area</th>\n",
       "      <th>Half Bath</th>\n",
       "      <th>Heating</th>\n",
       "      <th>Heating QC</th>\n",
       "      <th>House Style</th>\n",
       "      <th>Id</th>\n",
       "      <th>Kitchen AbvGr</th>\n",
       "      <th>Kitchen Qual</th>\n",
       "      <th>Land Contour</th>\n",
       "      <th>Land Slope</th>\n",
       "      <th>Lot Area</th>\n",
       "      <th>Lot Config</th>\n",
       "      <th>Lot Frontage</th>\n",
       "      <th>Lot Shape</th>\n",
       "      <th>Low Qual Fin SF</th>\n",
       "      <th>MS SubClass</th>\n",
       "      <th>MS Zoning</th>\n",
       "      <th>Mas Vnr Area</th>\n",
       "      <th>Mas Vnr Type</th>\n",
       "      <th>Misc Feature</th>\n",
       "      <th>Misc Val</th>\n",
       "      <th>Mo Sold</th>\n",
       "      <th>Neighborhood</th>\n",
       "      <th>Open Porch SF</th>\n",
       "      <th>Overall Cond</th>\n",
       "      <th>Overall Qual</th>\n",
       "      <th>PID</th>\n",
       "      <th>Paved Drive</th>\n",
       "      <th>Pool Area</th>\n",
       "      <th>Pool QC</th>\n",
       "      <th>Roof Matl</th>\n",
       "      <th>Roof Style</th>\n",
       "      <th>Sale Type</th>\n",
       "      <th>SalePrice</th>\n",
       "      <th>Screen Porch</th>\n",
       "      <th>Street</th>\n",
       "      <th>TotRms AbvGrd</th>\n",
       "      <th>Total Bsmt SF</th>\n",
       "      <th>Utilities</th>\n",
       "      <th>Wood Deck SF</th>\n",
       "      <th>Year Built</th>\n",
       "      <th>Year Remod/Add</th>\n",
       "      <th>Yr Sold</th>\n",
       "      <th>Kitchen Qual Num</th>\n",
       "      <th>Functional Num</th>\n",
       "      <th>Garage Qual Num</th>\n",
       "      <th>Exter Cond Num</th>\n",
       "    </tr>\n",
       "  </thead>\n",
       "  <tbody>\n",
       "    <tr>\n",
       "      <th>1712</th>\n",
       "      <td>942</td>\n",
       "      <td>886</td>\n",
       "      <td>0</td>\n",
       "      <td>NaN</td>\n",
       "      <td>3</td>\n",
       "      <td>1Fam</td>\n",
       "      <td>TA</td>\n",
       "      <td>No</td>\n",
       "      <td>0.0</td>\n",
       "      <td>0.0</td>\n",
       "      <td>Gd</td>\n",
       "      <td>311.0</td>\n",
       "      <td>548.0</td>\n",
       "      <td>0.0</td>\n",
       "      <td>ALQ</td>\n",
       "      <td>Unf</td>\n",
       "      <td>Y</td>\n",
       "      <td>Norm</td>\n",
       "      <td>Norm</td>\n",
       "      <td>SBrkr</td>\n",
       "      <td>212</td>\n",
       "      <td>TA</td>\n",
       "      <td>TA</td>\n",
       "      <td>Wd Sdng</td>\n",
       "      <td>Plywood</td>\n",
       "      <td>MnPrv</td>\n",
       "      <td>NaN</td>\n",
       "      <td>0</td>\n",
       "      <td>BrkTil</td>\n",
       "      <td>2</td>\n",
       "      <td>Typ</td>\n",
       "      <td>480.0</td>\n",
       "      <td>2.0</td>\n",
       "      <td>NaN</td>\n",
       "      <td>NaN</td>\n",
       "      <td>NA</td>\n",
       "      <td>Detchd</td>\n",
       "      <td>NaN</td>\n",
       "      <td>1828</td>\n",
       "      <td>0</td>\n",
       "      <td>GasA</td>\n",
       "      <td>Ex</td>\n",
       "      <td>2Story</td>\n",
       "      <td>2237</td>\n",
       "      <td>1</td>\n",
       "      <td>Gd</td>\n",
       "      <td>Lvl</td>\n",
       "      <td>Gtl</td>\n",
       "      <td>9060</td>\n",
       "      <td>Inside</td>\n",
       "      <td>50.0</td>\n",
       "      <td>Reg</td>\n",
       "      <td>0</td>\n",
       "      <td>70</td>\n",
       "      <td>RM</td>\n",
       "      <td>0.0</td>\n",
       "      <td>None</td>\n",
       "      <td>NaN</td>\n",
       "      <td>0</td>\n",
       "      <td>3</td>\n",
       "      <td>IDOTRR</td>\n",
       "      <td>0</td>\n",
       "      <td>6</td>\n",
       "      <td>5</td>\n",
       "      <td>910201180</td>\n",
       "      <td>Y</td>\n",
       "      <td>0</td>\n",
       "      <td>NaN</td>\n",
       "      <td>CompShg</td>\n",
       "      <td>Gable</td>\n",
       "      <td>WD</td>\n",
       "      <td>150909</td>\n",
       "      <td>0</td>\n",
       "      <td>Pave</td>\n",
       "      <td>6</td>\n",
       "      <td>859.0</td>\n",
       "      <td>AllPub</td>\n",
       "      <td>174</td>\n",
       "      <td>1923</td>\n",
       "      <td>1999</td>\n",
       "      <td>2007</td>\n",
       "      <td>4</td>\n",
       "      <td>7</td>\n",
       "      <td>0</td>\n",
       "      <td>3</td>\n",
       "    </tr>\n",
       "  </tbody>\n",
       "</table>\n",
       "</div>"
      ],
      "text/plain": [
       "      1st Flr SF  2nd Flr SF  3Ssn Porch Alley  Bedroom AbvGr Bldg Type  \\\n",
       "1712         942         886           0   NaN              3      1Fam   \n",
       "\n",
       "     Bsmt Cond Bsmt Exposure  Bsmt Full Bath  Bsmt Half Bath Bsmt Qual  \\\n",
       "1712        TA            No             0.0             0.0        Gd   \n",
       "\n",
       "      Bsmt Unf SF  BsmtFin SF 1  BsmtFin SF 2 BsmtFin Type 1 BsmtFin Type 2  \\\n",
       "1712        311.0         548.0           0.0            ALQ            Unf   \n",
       "\n",
       "     Central Air Condition 1 Condition 2 Electrical  Enclosed Porch  \\\n",
       "1712           Y        Norm        Norm      SBrkr             212   \n",
       "\n",
       "     Exter Cond Exter Qual Exterior 1st Exterior 2nd  Fence Fireplace Qu  \\\n",
       "1712         TA         TA      Wd Sdng      Plywood  MnPrv          NaN   \n",
       "\n",
       "      Fireplaces Foundation  Full Bath Functional  Garage Area  Garage Cars  \\\n",
       "1712           0     BrkTil          2        Typ        480.0          2.0   \n",
       "\n",
       "     Garage Cond Garage Finish Garage Qual Garage Type  Garage Yr Blt  \\\n",
       "1712         NaN           NaN          NA      Detchd            NaN   \n",
       "\n",
       "      Gr Liv Area  Half Bath Heating Heating QC House Style    Id  \\\n",
       "1712         1828          0    GasA         Ex      2Story  2237   \n",
       "\n",
       "      Kitchen AbvGr Kitchen Qual Land Contour Land Slope  Lot Area Lot Config  \\\n",
       "1712              1           Gd          Lvl        Gtl      9060     Inside   \n",
       "\n",
       "      Lot Frontage Lot Shape  Low Qual Fin SF  MS SubClass MS Zoning  \\\n",
       "1712          50.0       Reg                0           70        RM   \n",
       "\n",
       "      Mas Vnr Area Mas Vnr Type Misc Feature  Misc Val  Mo Sold Neighborhood  \\\n",
       "1712           0.0         None          NaN         0        3       IDOTRR   \n",
       "\n",
       "      Open Porch SF  Overall Cond  Overall Qual        PID Paved Drive  \\\n",
       "1712              0             6             5  910201180           Y   \n",
       "\n",
       "      Pool Area Pool QC Roof Matl Roof Style Sale Type  SalePrice  \\\n",
       "1712          0     NaN   CompShg      Gable       WD      150909   \n",
       "\n",
       "      Screen Porch Street  TotRms AbvGrd  Total Bsmt SF Utilities  \\\n",
       "1712             0   Pave              6          859.0    AllPub   \n",
       "\n",
       "      Wood Deck SF  Year Built  Year Remod/Add  Yr Sold  Kitchen Qual Num  \\\n",
       "1712           174        1923            1999     2007                 4   \n",
       "\n",
       "      Functional Num  Garage Qual Num  Exter Cond Num  \n",
       "1712               7                0               3  "
      ]
     },
     "execution_count": 27,
     "metadata": {},
     "output_type": "execute_result"
    }
   ],
   "source": [
    "df.loc[[1712]]"
   ]
  },
  {
   "cell_type": "code",
   "execution_count": 28,
   "id": "d01e7b54-4ae6-4ff1-a50d-0935026acb3c",
   "metadata": {},
   "outputs": [
    {
     "data": {
      "text/plain": [
       "1372    1\n",
       "1301    1\n",
       "1023    1\n",
       "162     1\n",
       "260     2\n",
       "       ..\n",
       "1141    9\n",
       "1127    9\n",
       "1682    9\n",
       "1035    9\n",
       "439     9\n",
       "Name: Overall Cond, Length: 2051, dtype: int64"
      ]
     },
     "execution_count": 28,
     "metadata": {},
     "output_type": "execute_result"
    }
   ],
   "source": [
    "df['Overall Cond'].sort_values()"
   ]
  },
  {
   "cell_type": "code",
   "execution_count": 29,
   "id": "a65035db-2a9f-4b1d-80a9-b08ad0d5557b",
   "metadata": {},
   "outputs": [],
   "source": [
    "#Interaction Terms\n",
    "df['yr_remod_or_built'] = df['Year Remod/Add'] * df['Year Built']\n",
    "df['Garage space'] = df['Garage Area'] * df['Garage Cars']\n",
    "df['sqft_above'] = df['1st Flr SF'] * df['Gr Liv Area']"
   ]
  },
  {
   "cell_type": "code",
   "execution_count": 30,
   "id": "29fbf599-b9aa-4bd1-bc94-d7d7151e131c",
   "metadata": {},
   "outputs": [],
   "source": [
    "df = pd.get_dummies(df, columns=['Neighborhood'], drop_first=True)\n",
    "neigh_dum = [col for col in df.columns if 'Neighborhood' in col]\n"
   ]
  },
  {
   "cell_type": "code",
   "execution_count": 31,
   "id": "771fb9d4-fcd8-4929-a346-2f982159db02",
   "metadata": {},
   "outputs": [],
   "source": [
    "df = pd.get_dummies(df, columns=['MS Zoning'], drop_first=True)\n",
    "mszone_dum = [col for col in df.columns if 'MS Zoning' in col]"
   ]
  },
  {
   "cell_type": "code",
   "execution_count": 32,
   "id": "629f33a8-9e8c-4787-8009-4b0c24673d88",
   "metadata": {},
   "outputs": [
    {
     "data": {
      "text/plain": [
       "0"
      ]
     },
     "execution_count": 32,
     "metadata": {},
     "output_type": "execute_result"
    }
   ],
   "source": [
    "df['Condition 1'].isnull().sum()"
   ]
  },
  {
   "cell_type": "code",
   "execution_count": 33,
   "id": "5999375e-0c49-434c-a686-a764ac22ef81",
   "metadata": {},
   "outputs": [],
   "source": [
    "df = pd.get_dummies(df, columns=['Condition 1'], drop_first=True)\n",
    "cond1_dum = [col for col in df.columns if 'Condition 1' in col]"
   ]
  },
  {
   "cell_type": "markdown",
   "id": "418f44da-b62a-422c-9a10-d7563fa37d94",
   "metadata": {},
   "source": [
    "**Do all of the cleaning/engineering to the test file**"
   ]
  },
  {
   "cell_type": "code",
   "execution_count": 34,
   "id": "9945790d-e466-4722-a8db-d5fb952f9350",
   "metadata": {},
   "outputs": [],
   "source": [
    "df_test['Kitchen Qual Num'] = df['Kitchen Qual'].map({'Ex': 5, 'Gd':4, 'TA': 3, 'Fa':2, 'Po':1, 'NA':0})\n",
    "\n",
    "df_test['Functional Num'] = df_test['Functional'].map({'Typ': 7, 'Min1': 6, 'Min2': 5, 'Mod':4, 'Maj1': 3, 'Maj2':2, 'Sev':1, 'Sal':0})\n",
    "\n",
    "df_test['Garage Qual'].fillna('NA', inplace=True)\n",
    "df_test['Garage Qual Num'] = df_test['Garage Qual'].map({'Ex': 5, 'Gd':4, 'TA': 3, 'Fa':2, 'Po':1, 'NA':0})\n",
    "\n",
    "df_test['Exter Cond Num'] = df_test['Exter Cond'].map({'Ex': 5, 'Gd':4, 'TA': 3, 'Fa':2, 'Po':1, 'NA':0})\n",
    "\n",
    "df_test['yr_remod_or_built'] = df_test['Year Remod/Add'] * df_test['Year Built']\n",
    "\n",
    "df_test = pd.get_dummies(df_test, columns=['Neighborhood'], drop_first=True)\n",
    "df_test = pd.get_dummies(df_test, columns=['Condition 1'], drop_first=True)\n",
    "df_test = pd.get_dummies(df_test, columns=['MS Zoning'], drop_first=True)\n",
    "\n",
    "df_test['Garage Area'].fillna(df_test['Garage Area'].median(), inplace = True)\n",
    "df_test['Garage Cars'].fillna(df_test['Garage Cars'].median(), inplace = True)\n",
    "df_test['Garage space'] = df_test['Garage Area'] * df_test['Garage Cars']\n",
    "\n",
    "df_test['sqft_above'] = df_test['1st Flr SF'] * df_test['Gr Liv Area']"
   ]
  },
  {
   "cell_type": "code",
   "execution_count": 35,
   "id": "b65862e2-92a1-4cab-b021-57f98f843702",
   "metadata": {},
   "outputs": [
    {
     "data": {
      "text/plain": [
       "<seaborn.axisgrid.PairGrid at 0x7feabfc794c0>"
      ]
     },
     "execution_count": 35,
     "metadata": {},
     "output_type": "execute_result"
    },
    {
     "data": {
      "image/png": "[encoded data removed]",
      "text/plain": [
       "<Figure size 1980x180 with 11 Axes>"
      ]
     },
     "metadata": {
      "needs_background": "light"
     },
     "output_type": "display_data"
    }
   ],
   "source": [
    "sns.pairplot(df, x_vars = ['Kitchen Qual Num', 'Functional Num', 'Garage Qual Num', 'Exter Cond Num', 'yr_remod_or_built', 'Garage space', 'sqft_above', 'Overall Qual', 'Misc Val', 'Full Bath', 'Overall Cond'], y_vars=['SalePrice'])"
   ]
  },
  {
   "cell_type": "code",
   "execution_count": 36,
   "id": "d808e652-9898-4f81-bcc1-33b736479b96",
   "metadata": {},
   "outputs": [
    {
     "data": {
      "text/plain": [
       "<seaborn.axisgrid.PairGrid at 0x7feabe28b0a0>"
      ]
     },
     "execution_count": 36,
     "metadata": {},
     "output_type": "execute_result"
    },
    {
     "data": {
      "image/png": "[encoded data removed]",
      "text/plain": [
       "<Figure size 4860x180 with 27 Axes>"
      ]
     },
     "metadata": {
      "needs_background": "light"
     },
     "output_type": "display_data"
    }
   ],
   "source": [
    "sns.pairplot(df, x_vars = neigh_dum, y_vars=['SalePrice'])"
   ]
  },
  {
   "cell_type": "markdown",
   "id": "3052dcad-d2ad-415e-afc4-a71a7d6a82ad",
   "metadata": {},
   "source": [
    "Neighborhoods don't seem to have much of an affect?"
   ]
  },
  {
   "cell_type": "code",
   "execution_count": 37,
   "id": "2614d0a8-e302-4bfb-87ab-b7a18658de2e",
   "metadata": {},
   "outputs": [
    {
     "data": {
      "text/plain": [
       "<seaborn.axisgrid.PairGrid at 0x7feac03bc9d0>"
      ]
     },
     "execution_count": 37,
     "metadata": {},
     "output_type": "execute_result"
    },
    {
     "data": {
      "image/png": "[encoded data removed]",
      "text/plain": [
       "<Figure size 1440x180 with 8 Axes>"
      ]
     },
     "metadata": {
      "needs_background": "light"
     },
     "output_type": "display_data"
    }
   ],
   "source": [
    "sns.pairplot(df, x_vars = cond1_dum, y_vars=['SalePrice'])"
   ]
  },
  {
   "cell_type": "code",
   "execution_count": 38,
   "id": "1989d158-5eee-4d9e-a710-a647fceac484",
   "metadata": {},
   "outputs": [
    {
     "data": {
      "text/plain": [
       "<seaborn.axisgrid.PairGrid at 0x7feac0c58490>"
      ]
     },
     "execution_count": 38,
     "metadata": {},
     "output_type": "execute_result"
    },
    {
     "data": {
      "image/png": "[encoded data removed]",
      "text/plain": [
       "<Figure size 1080x180 with 6 Axes>"
      ]
     },
     "metadata": {
      "needs_background": "light"
     },
     "output_type": "display_data"
    }
   ],
   "source": [
    "sns.pairplot(df, x_vars = mszone_dum, y_vars=['SalePrice'])"
   ]
  },
  {
   "cell_type": "markdown",
   "id": "9c932f7f-55f8-4c2f-8307-caa258c65635",
   "metadata": {},
   "source": [
    "**Step 5) Set Features and the Y**"
   ]
  },
  {
   "cell_type": "code",
   "execution_count": 39,
   "id": "01556b3f-57b1-4d87-97f6-929740ea009b",
   "metadata": {},
   "outputs": [
    {
     "data": {
      "text/plain": [
       "44"
      ]
     },
     "execution_count": 39,
     "metadata": {},
     "output_type": "execute_result"
    }
   ],
   "source": [
    "features = ['Kitchen Qual Num', 'Functional Num', 'Garage Qual Num', 'Exter Cond Num', 'yr_remod_or_built', 'Garage space', 'sqft_above', 'Overall Qual', 'Misc Val', 'Full Bath', 'Overall Cond']\n",
    "features.extend(neigh_dum)\n",
    "#features.extend(cond1_dum)\n",
    "features.extend(mszone_dum)\n",
    "len(features)"
   ]
  },
  {
   "cell_type": "code",
   "execution_count": 40,
   "id": "bf2fbd2a-910e-4c41-9bba-b4e31bae711a",
   "metadata": {},
   "outputs": [],
   "source": [
    "X = df[features]\n",
    "y = df['SalePrice']"
   ]
  },
  {
   "cell_type": "code",
   "execution_count": 41,
   "id": "8db2ec62-fd1b-4599-8b8b-64f79c7d1c50",
   "metadata": {},
   "outputs": [
    {
     "data": {
      "text/plain": [
       "LinearRegression()"
      ]
     },
     "execution_count": 41,
     "metadata": {},
     "output_type": "execute_result"
    }
   ],
   "source": [
    "lr = LinearRegression()\n",
    "lr.fit(X, y)"
   ]
  },
  {
   "cell_type": "markdown",
   "id": "ba55f453-515f-4b31-801e-b9ee6b93f86c",
   "metadata": {},
   "source": [
    "Step 6) Cross-val Score"
   ]
  },
  {
   "cell_type": "code",
   "execution_count": 42,
   "id": "96c350fc-3eae-4bc2-83d1-488b25acfef2",
   "metadata": {},
   "outputs": [
    {
     "data": {
      "text/plain": [
       "0.7920297786505575"
      ]
     },
     "execution_count": 42,
     "metadata": {},
     "output_type": "execute_result"
    }
   ],
   "source": [
    "cross_val_score(lr, X, y).mean()"
   ]
  },
  {
   "cell_type": "markdown",
   "id": "2bb73be8-b54e-4ad7-b4c7-e3b6c7f6f026",
   "metadata": {},
   "source": [
    "**Step 7) Train, Test, Split**\n",
    "\n",
    "Be careful with what you label the test."
   ]
  },
  {
   "cell_type": "code",
   "execution_count": 43,
   "id": "04f165f7-14df-4fac-9e93-77cbb588640f",
   "metadata": {},
   "outputs": [],
   "source": [
    "X_train, X_validate, y_train, y_validate = train_test_split(X, y, random_state = 36)"
   ]
  },
  {
   "cell_type": "markdown",
   "id": "3c819fb7-783b-46be-98e3-5daae61de334",
   "metadata": {},
   "source": [
    "**Step 8) Fit model**"
   ]
  },
  {
   "cell_type": "code",
   "execution_count": 44,
   "id": "a15cb217-727f-4ffe-8c1f-a1892062c7bb",
   "metadata": {},
   "outputs": [
    {
     "data": {
      "text/plain": [
       "LinearRegression()"
      ]
     },
     "execution_count": 44,
     "metadata": {},
     "output_type": "execute_result"
    }
   ],
   "source": [
    "lr.fit(X_train, y_train)"
   ]
  },
  {
   "cell_type": "code",
   "execution_count": 45,
   "id": "c677ed39-7230-4fdb-84de-acf76b7412e5",
   "metadata": {},
   "outputs": [
    {
     "data": {
      "text/plain": [
       "0.8176544776499569"
      ]
     },
     "execution_count": 45,
     "metadata": {},
     "output_type": "execute_result"
    }
   ],
   "source": [
    "#Train Score\n",
    "\n",
    "lr.score(X_train, y_train)"
   ]
  },
  {
   "cell_type": "code",
   "execution_count": 46,
   "id": "29e3c502-93d1-4a6a-8b8d-7f37d1b2d0b8",
   "metadata": {},
   "outputs": [
    {
     "data": {
      "text/plain": [
       "0.8276161443636711"
      ]
     },
     "execution_count": 46,
     "metadata": {},
     "output_type": "execute_result"
    }
   ],
   "source": [
    "#Test score\n",
    "\n",
    "lr.score(X_validate, y_validate)"
   ]
  },
  {
   "cell_type": "code",
   "execution_count": 47,
   "id": "1cd27215-779a-466f-9a36-c4a58fb134de",
   "metadata": {},
   "outputs": [
    {
     "data": {
      "text/plain": [
       "0.7713359036848604"
      ]
     },
     "execution_count": 47,
     "metadata": {},
     "output_type": "execute_result"
    }
   ],
   "source": [
    "cross_val_score(lr, X_train, y_train).mean()"
   ]
  },
  {
   "cell_type": "markdown",
   "id": "a9bbf94b-853c-42fc-a353-5152d90ae8a0",
   "metadata": {},
   "source": [
    "Some variance. Pretty good on bias. Want to check by plotting residual plot"
   ]
  },
  {
   "cell_type": "markdown",
   "id": "0bd012a1-fff0-4145-ac7d-95c82d018081",
   "metadata": {},
   "source": [
    "**Step 9) Residuals Plot Check**"
   ]
  },
  {
   "cell_type": "code",
   "execution_count": 48,
   "id": "7225b71c-1960-427f-b3ee-4ff2c8e2185f",
   "metadata": {},
   "outputs": [],
   "source": [
    "pred = lr.predict(X)"
   ]
  },
  {
   "cell_type": "code",
   "execution_count": 49,
   "id": "69ee7fab-b950-421d-a6ab-fb0b17a5bde4",
   "metadata": {},
   "outputs": [],
   "source": [
    "residuals = y - pred"
   ]
  },
  {
   "cell_type": "code",
   "execution_count": 50,
   "id": "92e382dc-29a2-47a1-b102-bf418f0d3695",
   "metadata": {},
   "outputs": [
    {
     "data": {
      "image/png": "[encoded data removed]",
      "text/plain": [
       "<Figure size 432x288 with 1 Axes>"
      ]
     },
     "metadata": {
      "needs_background": "light"
     },
     "output_type": "display_data"
    }
   ],
   "source": [
    "plt.axhline(y = 0, color='r')\n",
    "sns.scatterplot(x = pred, y = residuals)\n",
    "plt.title('Residual Plot to show Irreducable Error - Epsilon')\n",
    "plt.xlabel('Predicted Sale Price')\n",
    "plt.ylabel('Residuals');"
   ]
  },
  {
   "cell_type": "code",
   "execution_count": 51,
   "id": "c728e95e-93fd-4efa-a77a-2b375e10015c",
   "metadata": {},
   "outputs": [
    {
     "data": {
      "image/png": "[encoded data removed]",
      "text/plain": [
       "<Figure size 432x288 with 1 Axes>"
      ]
     },
     "metadata": {
      "needs_background": "light"
     },
     "output_type": "display_data"
    }
   ],
   "source": [
    "plt.hist(residuals);"
   ]
  },
  {
   "cell_type": "code",
   "execution_count": 52,
   "id": "fe19a93c-a43f-4474-bfdd-dccd9c543d90",
   "metadata": {},
   "outputs": [
    {
     "data": {
      "text/plain": [
       "59.9701772844846"
      ]
     },
     "execution_count": 52,
     "metadata": {},
     "output_type": "execute_result"
    }
   ],
   "source": [
    "residuals.mean()"
   ]
  },
  {
   "cell_type": "markdown",
   "id": "26223a89-d1c9-4594-95f7-9731523efa44",
   "metadata": {},
   "source": [
    "**Set up Submission file for Kaggle.**"
   ]
  },
  {
   "cell_type": "code",
   "execution_count": 53,
   "id": "0ab58a0c-cf70-4e46-b7b5-a1b912f383c3",
   "metadata": {},
   "outputs": [],
   "source": [
    "#Got an error that two columns were missing. Below I determined whiche two columns and then added those to \n",
    "\n",
    "neigh_dum_test = [col for col in df_test.columns if 'Neighborhood' in col]\n",
    "diff_neigh = list(set(neigh_dum) - set(neigh_dum_test))\n",
    "df_test[diff_neigh[0]] = 0\n",
    "df_test[diff_neigh[1]] = 0\n",
    "df_test['MS Zoning_C (all)'] = 0"
   ]
  },
  {
   "cell_type": "code",
   "execution_count": null,
   "id": "0bbd0752-b508-4e07-a3ab-71609c65061a",
   "metadata": {},
   "outputs": [],
   "source": []
  },
  {
   "cell_type": "code",
   "execution_count": 54,
   "id": "f19f10ea-30b8-4fe0-94fe-5e05144efc53",
   "metadata": {},
   "outputs": [],
   "source": [
    "pred_test = lr.predict(df_test[features])"
   ]
  },
  {
   "cell_type": "code",
   "execution_count": 55,
   "id": "01294544-952b-40c8-b7aa-947782c048e5",
   "metadata": {},
   "outputs": [
    {
     "data": {
      "text/plain": [
       "(878,)"
      ]
     },
     "execution_count": 55,
     "metadata": {},
     "output_type": "execute_result"
    }
   ],
   "source": [
    "pred_test.shape"
   ]
  },
  {
   "cell_type": "markdown",
   "id": "99a7c5de-79b8-4d32-b502-5972bae3b87d",
   "metadata": {},
   "source": [
    "Create a Sale Price column inside of df_test"
   ]
  },
  {
   "cell_type": "code",
   "execution_count": 56,
   "id": "2f9db157-f33f-452b-b6a1-bc6d3a2a934f",
   "metadata": {},
   "outputs": [],
   "source": [
    "df_test['SalePrice'] = pred_test"
   ]
  },
  {
   "cell_type": "code",
   "execution_count": 57,
   "id": "22953312-d963-42b1-969c-0663e85a2997",
   "metadata": {},
   "outputs": [
    {
     "data": {
      "text/html": [
       "<div>\n",
       "<style scoped>\n",
       "    .dataframe tbody tr th:only-of-type {\n",
       "        vertical-align: middle;\n",
       "    }\n",
       "\n",
       "    .dataframe tbody tr th {\n",
       "        vertical-align: top;\n",
       "    }\n",
       "\n",
       "    .dataframe thead th {\n",
       "        text-align: right;\n",
       "    }\n",
       "</style>\n",
       "<table border=\"1\" class=\"dataframe\">\n",
       "  <thead>\n",
       "    <tr style=\"text-align: right;\">\n",
       "      <th></th>\n",
       "      <th>Id</th>\n",
       "      <th>SalePrice</th>\n",
       "    </tr>\n",
       "  </thead>\n",
       "  <tbody>\n",
       "    <tr>\n",
       "      <th>0</th>\n",
       "      <td>2658</td>\n",
       "      <td>153236.094190</td>\n",
       "    </tr>\n",
       "    <tr>\n",
       "      <th>1</th>\n",
       "      <td>2718</td>\n",
       "      <td>190096.049363</td>\n",
       "    </tr>\n",
       "    <tr>\n",
       "      <th>2</th>\n",
       "      <td>2414</td>\n",
       "      <td>198668.846219</td>\n",
       "    </tr>\n",
       "    <tr>\n",
       "      <th>3</th>\n",
       "      <td>1989</td>\n",
       "      <td>119330.513239</td>\n",
       "    </tr>\n",
       "    <tr>\n",
       "      <th>4</th>\n",
       "      <td>625</td>\n",
       "      <td>162332.846346</td>\n",
       "    </tr>\n",
       "  </tbody>\n",
       "</table>\n",
       "</div>"
      ],
      "text/plain": [
       "     Id      SalePrice\n",
       "0  2658  153236.094190\n",
       "1  2718  190096.049363\n",
       "2  2414  198668.846219\n",
       "3  1989  119330.513239\n",
       "4   625  162332.846346"
      ]
     },
     "execution_count": 57,
     "metadata": {},
     "output_type": "execute_result"
    }
   ],
   "source": [
    "model8_submission = df_test[['Id', 'SalePrice']]\n",
    "model8_submission.head()"
   ]
  },
  {
   "cell_type": "code",
   "execution_count": 58,
   "id": "6ec0c5f7-ef74-4384-ad19-e567b9ff42d4",
   "metadata": {},
   "outputs": [],
   "source": [
    "model8_submission.set_index('Id', inplace=True) "
   ]
  },
  {
   "cell_type": "code",
   "execution_count": 59,
   "id": "65c4102c-3f81-460e-ad98-d9440e1d5bff",
   "metadata": {},
   "outputs": [],
   "source": [
    "model8_submission.to_csv('../datasets/Model_submissions/model8_submission.csv') "
   ]
  },
  {
   "cell_type": "code",
   "execution_count": null,
   "id": "fa0bb574-bbff-4bc1-974a-47c7c88bcd3b",
   "metadata": {},
   "outputs": [],
   "source": []
  }
 ],
 "metadata": {
  "kernelspec": {
   "display_name": "Python 3 (ipykernel)",
   "language": "python",
   "name": "python3"
  },
  "language_info": {
   "codemirror_mode": {
    "name": "ipython",
    "version": 3
   },
   "file_extension": ".py",
   "mimetype": "text/x-python",
   "name": "python",
   "nbconvert_exporter": "python",
   "pygments_lexer": "ipython3",
   "version": "3.9.7"
  }
 },
 "nbformat": 4,
 "nbformat_minor": 5
}
